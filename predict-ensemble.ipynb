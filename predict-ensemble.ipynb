{
 "cells": [
  {
   "cell_type": "code",
   "execution_count": 22,
   "metadata": {},
   "outputs": [
    {
     "name": "stdout",
     "output_type": "stream",
     "text": [
      "env: GOOGLE_APPLICATION_CREDENTIALS=ross-kubeflow-da165d24798a.json\n"
     ]
    }
   ],
   "source": [
    "%env GOOGLE_APPLICATION_CREDENTIALS=ross-kubeflow-da165d24798a.json"
   ]
  },
  {
   "cell_type": "code",
   "execution_count": 23,
   "metadata": {},
   "outputs": [],
   "source": [
    "import pandas as pd\n",
    "import googleapiclient.discovery\n",
    "\n",
    "from pred_utils.collectSampleEnhanced import collectSampleEnhanced\n",
    "from pred_utils.collectPitch import collectPitch\n",
    "from pred_utils.returnPredEnhanced import returnPredEnhanced"
   ]
  },
  {
   "cell_type": "code",
   "execution_count": 24,
   "metadata": {},
   "outputs": [],
   "source": [
    "sample_df = collectSampleEnhanced()"
   ]
  },
  {
   "cell_type": "code",
   "execution_count": 25,
   "metadata": {},
   "outputs": [],
   "source": [
    "pitch_data, pitch_label = collectPitch(sample_df)"
   ]
  },
  {
   "cell_type": "code",
   "execution_count": 26,
   "metadata": {},
   "outputs": [
    {
     "data": {
      "text/plain": [
       "[[0.01437497138977051,\n",
       "  0.014768600463867188,\n",
       "  0.017860382795333862,\n",
       "  0.0177839994430542,\n",
       "  0.014266729354858397,\n",
       "  0.014924705028533937,\n",
       "  0.014910012483596803,\n",
       "  0.9804857969284058,\n",
       "  0.014994412660598757,\n",
       "  0.014188230037689209,\n",
       "  0.01434314250946045,\n",
       "  0.014409512281417847]]"
      ]
     },
     "execution_count": 26,
     "metadata": {},
     "output_type": "execute_result"
    }
   ],
   "source": [
    "pitch_data"
   ]
  },
  {
   "cell_type": "code",
   "execution_count": 27,
   "metadata": {},
   "outputs": [],
   "source": [
    "prediction = returnPredEnhanced(pitch_data)"
   ]
  },
  {
   "cell_type": "code",
   "execution_count": 28,
   "metadata": {},
   "outputs": [
    {
     "data": {
      "text/plain": [
       "'FF'"
      ]
     },
     "execution_count": 28,
     "metadata": {},
     "output_type": "execute_result"
    }
   ],
   "source": [
    "prediction"
   ]
  },
  {
   "cell_type": "code",
   "execution_count": 29,
   "metadata": {},
   "outputs": [
    {
     "data": {
      "text/html": [
       "<style  type=\"text/css\" >\n",
       "    #T_5e068f74_d3e2_11e9_b8bf_acde48001122row0_col3 {\n",
       "            background-color:  yellow;\n",
       "        }</style><table id=\"T_5e068f74_d3e2_11e9_b8bf_acde48001122\" ><thead>    <tr>        <th class=\"blank level0\" ></th>        <th class=\"col_heading level0 col0\" >FT</th>        <th class=\"col_heading level0 col1\" >FS</th>        <th class=\"col_heading level0 col2\" >CH</th>        <th class=\"col_heading level0 col3\" >FF</th>        <th class=\"col_heading level0 col4\" >SL</th>        <th class=\"col_heading level0 col5\" >CU</th>        <th class=\"col_heading level0 col6\" >FC</th>        <th class=\"col_heading level0 col7\" >SI</th>        <th class=\"col_heading level0 col8\" >KC</th>        <th class=\"col_heading level0 col9\" >EP</th>        <th class=\"col_heading level0 col10\" >KN</th>        <th class=\"col_heading level0 col11\" >FO</th>    </tr></thead><tbody>\n",
       "                <tr>\n",
       "                        <th id=\"T_5e068f74_d3e2_11e9_b8bf_acde48001122level0_row0\" class=\"row_heading level0 row0\" >147</th>\n",
       "                        <td id=\"T_5e068f74_d3e2_11e9_b8bf_acde48001122row0_col0\" class=\"data row0 col0\" >0</td>\n",
       "                        <td id=\"T_5e068f74_d3e2_11e9_b8bf_acde48001122row0_col1\" class=\"data row0 col1\" >0</td>\n",
       "                        <td id=\"T_5e068f74_d3e2_11e9_b8bf_acde48001122row0_col2\" class=\"data row0 col2\" >0</td>\n",
       "                        <td id=\"T_5e068f74_d3e2_11e9_b8bf_acde48001122row0_col3\" class=\"data row0 col3\" >1</td>\n",
       "                        <td id=\"T_5e068f74_d3e2_11e9_b8bf_acde48001122row0_col4\" class=\"data row0 col4\" >0</td>\n",
       "                        <td id=\"T_5e068f74_d3e2_11e9_b8bf_acde48001122row0_col5\" class=\"data row0 col5\" >0</td>\n",
       "                        <td id=\"T_5e068f74_d3e2_11e9_b8bf_acde48001122row0_col6\" class=\"data row0 col6\" >0</td>\n",
       "                        <td id=\"T_5e068f74_d3e2_11e9_b8bf_acde48001122row0_col7\" class=\"data row0 col7\" >0</td>\n",
       "                        <td id=\"T_5e068f74_d3e2_11e9_b8bf_acde48001122row0_col8\" class=\"data row0 col8\" >0</td>\n",
       "                        <td id=\"T_5e068f74_d3e2_11e9_b8bf_acde48001122row0_col9\" class=\"data row0 col9\" >0</td>\n",
       "                        <td id=\"T_5e068f74_d3e2_11e9_b8bf_acde48001122row0_col10\" class=\"data row0 col10\" >0</td>\n",
       "                        <td id=\"T_5e068f74_d3e2_11e9_b8bf_acde48001122row0_col11\" class=\"data row0 col11\" >0</td>\n",
       "            </tr>\n",
       "    </tbody></table>"
      ],
      "text/plain": [
       "<pandas.io.formats.style.Styler at 0x119912128>"
      ]
     },
     "execution_count": 29,
     "metadata": {},
     "output_type": "execute_result"
    }
   ],
   "source": [
    "pitch_label"
   ]
  }
 ],
 "metadata": {
  "kernelspec": {
   "display_name": "Python 3",
   "language": "python",
   "name": "python3"
  },
  "language_info": {
   "codemirror_mode": {
    "name": "ipython",
    "version": 3
   },
   "file_extension": ".py",
   "mimetype": "text/x-python",
   "name": "python",
   "nbconvert_exporter": "python",
   "pygments_lexer": "ipython3",
   "version": "3.7.2"
  }
 },
 "nbformat": 4,
 "nbformat_minor": 4
}
