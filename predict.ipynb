{
 "cells": [
  {
   "cell_type": "code",
   "execution_count": 1,
   "metadata": {},
   "outputs": [
    {
     "name": "stdout",
     "output_type": "stream",
     "text": [
      "env: GOOGLE_APPLICATION_CREDENTIALS=ross-kubeflow-da165d24798a.json\n"
     ]
    }
   ],
   "source": [
    "%env GOOGLE_APPLICATION_CREDENTIALS=ross-kubeflow-da165d24798a.json"
   ]
  },
  {
   "cell_type": "code",
   "execution_count": 2,
   "metadata": {},
   "outputs": [],
   "source": [
    "import pandas as pd\n",
    "\n",
    "from pred_utils.collectSample import collectSample\n",
    "from pred_utils.collectPitch import collectPitch\n",
    "from pred_utils.returnPred import returnPred"
   ]
  },
  {
   "cell_type": "code",
   "execution_count": 3,
   "metadata": {},
   "outputs": [],
   "source": [
    "sample_df = collectSample()"
   ]
  },
  {
   "cell_type": "code",
   "execution_count": 4,
   "metadata": {},
   "outputs": [],
   "source": [
    "pitch_data, pitch_label = collectPitch(sample_df)"
   ]
  },
  {
   "cell_type": "code",
   "execution_count": 5,
   "metadata": {},
   "outputs": [
    {
     "data": {
      "text/plain": [
       "[[3.29,\n",
       "  1.57,\n",
       "  -3.29,\n",
       "  3.13,\n",
       "  10.0,\n",
       "  0.0,\n",
       "  226.408,\n",
       "  0.0348837,\n",
       "  0.0787905729854,\n",
       "  -125.966474031,\n",
       "  0.31587143643,\n",
       "  -3.03574700302,\n",
       "  2.89745943083,\n",
       "  -3.29,\n",
       "  3.13,\n",
       "  1.24225706157,\n",
       "  55.0,\n",
       "  6.27565801974,\n",
       "  -4.27144177837,\n",
       "  -128.81270339,\n",
       "  -2.92391473589,\n",
       "  -5.07100003815,\n",
       "  24.1719991608,\n",
       "  -27.3389995422,\n",
       "  87.9,\n",
       "  -1.08665098656,\n",
       "  2.43759938287,\n",
       "  -0.96,\n",
       "  2.46,\n",
       "  0.0,\n",
       "  1.0]]"
      ]
     },
     "execution_count": 5,
     "metadata": {},
     "output_type": "execute_result"
    }
   ],
   "source": [
    "pitch_data"
   ]
  },
  {
   "cell_type": "code",
   "execution_count": 6,
   "metadata": {},
   "outputs": [],
   "source": [
    "prediction = returnPred(pitch_data)"
   ]
  },
  {
   "cell_type": "code",
   "execution_count": 7,
   "metadata": {},
   "outputs": [
    {
     "data": {
      "text/html": [
       "<style  type=\"text/css\" >\n",
       "    #T_5974f1ee_d3e2_11e9_8160_acde48001122row0_col4 {\n",
       "            background-color:  yellow;\n",
       "        }</style><table id=\"T_5974f1ee_d3e2_11e9_8160_acde48001122\" ><thead>    <tr>        <th class=\"blank level0\" ></th>        <th class=\"col_heading level0 col0\" >FT</th>        <th class=\"col_heading level0 col1\" >FS</th>        <th class=\"col_heading level0 col2\" >CH</th>        <th class=\"col_heading level0 col3\" >FF</th>        <th class=\"col_heading level0 col4\" >SL</th>        <th class=\"col_heading level0 col5\" >CU</th>        <th class=\"col_heading level0 col6\" >FC</th>        <th class=\"col_heading level0 col7\" >SI</th>        <th class=\"col_heading level0 col8\" >KC</th>        <th class=\"col_heading level0 col9\" >EP</th>        <th class=\"col_heading level0 col10\" >KN</th>        <th class=\"col_heading level0 col11\" >FO</th>    </tr></thead><tbody>\n",
       "                <tr>\n",
       "                        <th id=\"T_5974f1ee_d3e2_11e9_8160_acde48001122level0_row0\" class=\"row_heading level0 row0\" >0</th>\n",
       "                        <td id=\"T_5974f1ee_d3e2_11e9_8160_acde48001122row0_col0\" class=\"data row0 col0\" >0.0187247</td>\n",
       "                        <td id=\"T_5974f1ee_d3e2_11e9_8160_acde48001122row0_col1\" class=\"data row0 col1\" >0.0554776</td>\n",
       "                        <td id=\"T_5974f1ee_d3e2_11e9_8160_acde48001122row0_col2\" class=\"data row0 col2\" >0.0161395</td>\n",
       "                        <td id=\"T_5974f1ee_d3e2_11e9_8160_acde48001122row0_col3\" class=\"data row0 col3\" >0.0208606</td>\n",
       "                        <td id=\"T_5974f1ee_d3e2_11e9_8160_acde48001122row0_col4\" class=\"data row0 col4\" >0.859201</td>\n",
       "                        <td id=\"T_5974f1ee_d3e2_11e9_8160_acde48001122row0_col5\" class=\"data row0 col5\" >0.0144827</td>\n",
       "                        <td id=\"T_5974f1ee_d3e2_11e9_8160_acde48001122row0_col6\" class=\"data row0 col6\" >0.193832</td>\n",
       "                        <td id=\"T_5974f1ee_d3e2_11e9_8160_acde48001122row0_col7\" class=\"data row0 col7\" >0.00923193</td>\n",
       "                        <td id=\"T_5974f1ee_d3e2_11e9_8160_acde48001122row0_col8\" class=\"data row0 col8\" >0.0144292</td>\n",
       "                        <td id=\"T_5974f1ee_d3e2_11e9_8160_acde48001122row0_col9\" class=\"data row0 col9\" >0.0141696</td>\n",
       "                        <td id=\"T_5974f1ee_d3e2_11e9_8160_acde48001122row0_col10\" class=\"data row0 col10\" >0.0142282</td>\n",
       "                        <td id=\"T_5974f1ee_d3e2_11e9_8160_acde48001122row0_col11\" class=\"data row0 col11\" >0.0142387</td>\n",
       "            </tr>\n",
       "    </tbody></table>"
      ],
      "text/plain": [
       "<pandas.io.formats.style.Styler at 0x11f3470f0>"
      ]
     },
     "execution_count": 7,
     "metadata": {},
     "output_type": "execute_result"
    }
   ],
   "source": [
    "prediction"
   ]
  },
  {
   "cell_type": "code",
   "execution_count": 8,
   "metadata": {},
   "outputs": [
    {
     "data": {
      "text/html": [
       "<style  type=\"text/css\" >\n",
       "    #T_597848f8_d3e2_11e9_8160_acde48001122row0_col4 {\n",
       "            background-color:  yellow;\n",
       "        }</style><table id=\"T_597848f8_d3e2_11e9_8160_acde48001122\" ><thead>    <tr>        <th class=\"blank level0\" ></th>        <th class=\"col_heading level0 col0\" >FT</th>        <th class=\"col_heading level0 col1\" >FS</th>        <th class=\"col_heading level0 col2\" >CH</th>        <th class=\"col_heading level0 col3\" >FF</th>        <th class=\"col_heading level0 col4\" >SL</th>        <th class=\"col_heading level0 col5\" >CU</th>        <th class=\"col_heading level0 col6\" >FC</th>        <th class=\"col_heading level0 col7\" >SI</th>        <th class=\"col_heading level0 col8\" >KC</th>        <th class=\"col_heading level0 col9\" >EP</th>        <th class=\"col_heading level0 col10\" >KN</th>        <th class=\"col_heading level0 col11\" >FO</th>    </tr></thead><tbody>\n",
       "                <tr>\n",
       "                        <th id=\"T_597848f8_d3e2_11e9_8160_acde48001122level0_row0\" class=\"row_heading level0 row0\" >22</th>\n",
       "                        <td id=\"T_597848f8_d3e2_11e9_8160_acde48001122row0_col0\" class=\"data row0 col0\" >0</td>\n",
       "                        <td id=\"T_597848f8_d3e2_11e9_8160_acde48001122row0_col1\" class=\"data row0 col1\" >0</td>\n",
       "                        <td id=\"T_597848f8_d3e2_11e9_8160_acde48001122row0_col2\" class=\"data row0 col2\" >0</td>\n",
       "                        <td id=\"T_597848f8_d3e2_11e9_8160_acde48001122row0_col3\" class=\"data row0 col3\" >0</td>\n",
       "                        <td id=\"T_597848f8_d3e2_11e9_8160_acde48001122row0_col4\" class=\"data row0 col4\" >1</td>\n",
       "                        <td id=\"T_597848f8_d3e2_11e9_8160_acde48001122row0_col5\" class=\"data row0 col5\" >0</td>\n",
       "                        <td id=\"T_597848f8_d3e2_11e9_8160_acde48001122row0_col6\" class=\"data row0 col6\" >0</td>\n",
       "                        <td id=\"T_597848f8_d3e2_11e9_8160_acde48001122row0_col7\" class=\"data row0 col7\" >0</td>\n",
       "                        <td id=\"T_597848f8_d3e2_11e9_8160_acde48001122row0_col8\" class=\"data row0 col8\" >0</td>\n",
       "                        <td id=\"T_597848f8_d3e2_11e9_8160_acde48001122row0_col9\" class=\"data row0 col9\" >0</td>\n",
       "                        <td id=\"T_597848f8_d3e2_11e9_8160_acde48001122row0_col10\" class=\"data row0 col10\" >0</td>\n",
       "                        <td id=\"T_597848f8_d3e2_11e9_8160_acde48001122row0_col11\" class=\"data row0 col11\" >0</td>\n",
       "            </tr>\n",
       "    </tbody></table>"
      ],
      "text/plain": [
       "<pandas.io.formats.style.Styler at 0x11d875c88>"
      ]
     },
     "execution_count": 8,
     "metadata": {},
     "output_type": "execute_result"
    }
   ],
   "source": [
    "pitch_label"
   ]
  }
 ],
 "metadata": {
  "kernelspec": {
   "display_name": "Python 3",
   "language": "python",
   "name": "python3"
  },
  "language_info": {
   "codemirror_mode": {
    "name": "ipython",
    "version": 3
   },
   "file_extension": ".py",
   "mimetype": "text/x-python",
   "name": "python",
   "nbconvert_exporter": "python",
   "pygments_lexer": "ipython3",
   "version": "3.7.2"
  }
 },
 "nbformat": 4,
 "nbformat_minor": 4
}
